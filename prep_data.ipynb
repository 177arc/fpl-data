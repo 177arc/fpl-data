{
 "cells": [
  {
   "cell_type": "markdown",
   "metadata": {},
   "source": [
    "# Installation\n",
    "To get started, run the following command to install all required dependencies."
   ]
  },
  {
   "cell_type": "code",
   "execution_count": null,
   "metadata": {
    "ExecuteTime": {
     "end_time": "2020-10-24T22:10:10.795297Z",
     "start_time": "2020-10-24T22:10:10.792297Z"
    }
   },
   "outputs": [],
   "source": [
    "#!pip install -q -r ./requirements.txt"
   ]
  },
  {
   "cell_type": "markdown",
   "metadata": {},
   "source": [
    "# Import requirements\n",
    "Here we import all external and local modulues."
   ]
  },
  {
   "cell_type": "code",
   "execution_count": null,
   "metadata": {
    "ExecuteTime": {
     "end_time": "2020-10-24T22:10:13.655339Z",
     "start_time": "2020-10-24T22:10:11.264340Z"
    }
   },
   "outputs": [],
   "source": [
    "from fpldata.common import Context\n",
    "from fpldata.prepare import get_game_weeks, get_next_gw_counts, prepare_teams, get_team_id_code_map, \\\n",
    "    prepare_fixtures, get_fixtures_id_code_map, prepare_players, get_players_id_code_map, \\\n",
    "    prepare_players_history_past, prepare_players_history, load_team_goal_stats_est\n",
    "from fpldata.derive import get_player_teams, get_fixture_teams, get_players_history_fixtures, \\\n",
    "    get_team_score_stats, get_fixture_teams_stats, get_team_fixture_strength, get_player_team_fixture_strength, \\\n",
    "    get_team_future_fixtures, get_players_future_fixture_team_strengths, get_player_fixture_stats, get_players_fixture_team_eps, \\\n",
    "    get_players_gw_team_eps, get_player_gw_next_eps\n",
    "from fpldata.s3store import S3Store\n",
    "from fplpandas import FPLPandas\n",
    "\n",
    "from pathlib import Path\n",
    "from shutil import copyfile\n",
    "import tempfile\n",
    "import os\n",
    "import logging, sys\n",
    "import pandas as pd\n",
    "from datadict import DataDict\n",
    "from typing import Dict\n",
    "\n",
    "# Define type aliases\n",
    "DF = pd.DataFrame\n",
    "S = pd.Series"
   ]
  },
  {
   "cell_type": "markdown",
   "metadata": {},
   "source": [
    "# Set variables\n",
    "This section sets all important global variables."
   ]
  },
  {
   "cell_type": "code",
   "execution_count": null,
   "metadata": {
    "ExecuteTime": {
     "end_time": "2020-10-24T22:10:13.671341Z",
     "start_time": "2020-10-24T22:10:13.657341Z"
    }
   },
   "outputs": [],
   "source": [
    "def is_notebook():\n",
    "    try:\n",
    "        shell = get_ipython().__class__.__name__\n",
    "        if shell == 'ZMQInteractiveShell':\n",
    "            return True   # Jupyter notebook or qtconsole\n",
    "        elif shell == 'TerminalInteractiveShell':\n",
    "            return False  # Terminal running IPython\n",
    "        else:\n",
    "            return False\n",
    "    except NameError:\n",
    "        return False"
   ]
  },
  {
   "cell_type": "code",
   "execution_count": null,
   "metadata": {
    "ExecuteTime": {
     "end_time": "2020-10-24T22:10:13.687340Z",
     "start_time": "2020-10-24T22:10:13.673343Z"
    }
   },
   "outputs": [],
   "source": [
    "DATA_DICT_FILE = 'data/data_dictionary.csv'\n",
    "DATA_DIR = f'{tempfile.gettempdir()}/data'\n",
    "\n",
    "TEAM_STATS_EST_FILE = 'data/team_goals_stats_estimates.csv'\n",
    "LAST_SEASON = '2019-20'\n",
    "CURRENT_SEASON = '2020-21'\n",
    "FIXTURE_LOOK_BACK = 38  # Limit of how many fixtures to look back for calculating rolling team stats\n",
    "PLAYER_FIXTURE_LOOK_BACK = 10 # Limit of how many fixture to look back for calcating rolling player stats\n",
    "\n",
    "PLAYERS_FILE = f'data/{LAST_SEASON}/players.csv'\n",
    "PLAYERS_HISTORY_FILE = f'data/{LAST_SEASON}/players_history.csv'\n",
    "FIXTURES_FILE = f'data/{LAST_SEASON}/fixtures.csv'\n",
    "TEAMS_FILE = f'data/{LAST_SEASON}/teams.csv'\n",
    "\n",
    "logging.basicConfig(level=(logging.WARN if is_notebook() else logging.INFO))\n",
    "\n",
    "fpl = FPLPandas() # Wrapper for access the FPL API and mapping the data into pandas data frames."
   ]
  },
  {
   "cell_type": "markdown",
   "metadata": {
    "ExecuteTime": {
     "end_time": "2020-10-14T21:01:13.956223Z",
     "start_time": "2020-10-14T21:01:13.946225Z"
    }
   },
   "source": [
    "# Load data dictionary\n",
    "This section loads the data dictionary. The data dictionary contains default ordering of fields, for each field a description, default format and mapping of API field names to more readable ones. It is used to show data in a more user-friendly way."
   ]
  },
  {
   "cell_type": "code",
   "execution_count": null,
   "metadata": {
    "ExecuteTime": {
     "end_time": "2020-10-24T22:10:13.718340Z",
     "start_time": "2020-10-24T22:10:13.689341Z"
    }
   },
   "outputs": [],
   "source": [
    "ctx = Context()\n",
    "ctx.fixtures_look_back = FIXTURE_LOOK_BACK\n",
    "ctx.player_fixtures_look_back = PLAYER_FIXTURE_LOOK_BACK\n",
    "ctx.last_season = LAST_SEASON\n",
    "ctx.current_season = CURRENT_SEASON\n",
    "ctx.dd = DataDict(data_dict_file=DATA_DICT_FILE)"
   ]
  },
  {
   "cell_type": "markdown",
   "metadata": {
    "ExecuteTime": {
     "end_time": "2020-10-14T21:02:10.235546Z",
     "start_time": "2020-10-14T21:02:10.229545Z"
    }
   },
   "source": [
    "# Load game week data\n",
    "The data frame contains one row for each game week for the current season."
   ]
  },
  {
   "cell_type": "code",
   "execution_count": null,
   "metadata": {
    "ExecuteTime": {
     "end_time": "2020-10-24T22:10:15.035341Z",
     "start_time": "2020-10-24T22:10:13.720341Z"
    }
   },
   "outputs": [],
   "source": [
    "logging.info('Loading game week data ...')\n",
    "\n",
    "gws = get_game_weeks(fpl, ctx)\n",
    "ctx.total_gws = gws.shape[0]\n",
    "ctx.next_gw = gws[lambda df: df['Is Next GW?']].index.values[0]\n",
    "ctx.def_next_gws = 'Next 8 GWs'\n",
    "ctx.next_gw_counts = get_next_gw_counts(ctx)"
   ]
  },
  {
   "cell_type": "markdown",
   "metadata": {},
   "source": [
    "# Load team data\n",
    "This section loads the team data and stats from the following endpoint: https://fantasy.premierleague.com/api/bootstrap-static/ and returns it as a panda data frame."
   ]
  },
  {
   "cell_type": "code",
   "execution_count": null,
   "metadata": {
    "ExecuteTime": {
     "end_time": "2020-10-24T22:10:15.336339Z",
     "start_time": "2020-10-24T22:10:15.037342Z"
    }
   },
   "outputs": [],
   "source": [
    "logging.info('Loading team data ...')\n",
    "\n",
    "# Get current team data. The resultnig data frame contains one row for each team playing in the current season.\n",
    "teams = fpl.get_teams().pipe(prepare_teams, ctx)\n",
    "team_id_code_map = teams.pipe(get_team_id_code_map)"
   ]
  },
  {
   "cell_type": "code",
   "execution_count": null,
   "metadata": {
    "ExecuteTime": {
     "end_time": "2020-10-24T22:10:15.367342Z",
     "start_time": "2020-10-24T22:10:15.338344Z"
    }
   },
   "outputs": [],
   "source": [
    "# Get last season's team data\n",
    "teams_last_season = (pd.read_csv(TEAMS_FILE, index_col=['id']).pipe(prepare_teams, ctx))\n",
    "teams_last_season_id_code_map = teams_last_season.pipe(get_team_id_code_map)\n",
    "\n",
    "# This data frame contains one row for each team playing in the current season and the past season.\n",
    "teams_ext = pd.concat([teams, teams_last_season[~teams_last_season.index.isin(teams.index)]])"
   ]
  },
  {
   "cell_type": "markdown",
   "metadata": {},
   "source": [
    "# Load fixture data\n",
    "This section loads the fixture data and stats from the following endpoint: https://fantasy.premierleague.com/api/fixtures/ and returns it as a panda data frame."
   ]
  },
  {
   "cell_type": "code",
   "execution_count": null,
   "metadata": {
    "ExecuteTime": {
     "end_time": "2020-10-24T22:10:15.731342Z",
     "start_time": "2020-10-24T22:10:15.370343Z"
    }
   },
   "outputs": [],
   "source": [
    "logging.info('Loading fixture data ...')\n",
    "\n",
    "# Get current fixture data. The resulting data frame contains one row for each fixture of the current season, both past and future ones.\n",
    "fixtures = fpl.get_fixtures().pipe(prepare_fixtures, team_id_code_map, ctx).assign(**{'Season': ctx.current_season})\n",
    "fixtures_id_code_map = fixtures.pipe(get_fixtures_id_code_map)"
   ]
  },
  {
   "cell_type": "code",
   "execution_count": null,
   "metadata": {
    "ExecuteTime": {
     "end_time": "2020-10-24T22:10:15.779340Z",
     "start_time": "2020-10-24T22:10:15.733345Z"
    }
   },
   "outputs": [],
   "source": [
    "# Get last season's fixture data\n",
    "fixtures_last_season = (pd.read_csv(FIXTURES_FILE, index_col=['id'])\n",
    "                        .pipe(prepare_fixtures, teams_last_season_id_code_map, ctx)).assign(**{'Season': ctx.last_season})\n",
    "fixtures_last_season_id_code_map = fixtures_last_season.pipe(get_fixtures_id_code_map)\n",
    "\n",
    "# This data frame contains one row for each fixture of the the last and the current season, both past and future ones.\n",
    "fixtures_ext = pd.concat([fixtures, fixtures_last_season])"
   ]
  },
  {
   "cell_type": "markdown",
   "metadata": {},
   "source": [
    "# Load player data\n",
    "This section loads the player data and stats from the following FPL API endpoint: https://fantasy.premierleague.com/api/bootstrap-static/ and returns it as a panda data frame. **This can take a few seconds** because for each player the full history for the current season is downloaded."
   ]
  },
  {
   "cell_type": "code",
   "execution_count": null,
   "metadata": {
    "ExecuteTime": {
     "end_time": "2020-10-24T22:10:29.278340Z",
     "start_time": "2020-10-24T22:10:15.781341Z"
    }
   },
   "outputs": [],
   "source": [
    "logging.info('Loading player data ...')\n",
    "\n",
    "# Get current player data\n",
    "players_raw = fpl.get_players()\n",
    "players = (players_raw[0]\n",
    "           .pipe(prepare_players, ctx)\n",
    "           .assign(**{'Season': ctx.current_season}))\n",
    "players_id_code_map = players.pipe(get_players_id_code_map)\n",
    "\n",
    "\n",
    "# This data frame contains one row for every past season played in the premier league for every player in the current season.\n",
    "players_history_past = players_raw[1].pipe(prepare_players_history_past, players_id_code_map, ctx)\n",
    "\n",
    "# This data frame contains one row for every completed fixture in the current season for every player.\n",
    "players_history = (players_raw[2]\n",
    "                   .pipe(prepare_players_history, players_id_code_map, fixtures_id_code_map, ctx)\n",
    "                   .assign(**{'Season': ctx.current_season}))"
   ]
  },
  {
   "cell_type": "code",
   "execution_count": null,
   "metadata": {
    "ExecuteTime": {
     "end_time": "2020-10-24T22:10:29.486339Z",
     "start_time": "2020-10-24T22:10:29.280341Z"
    }
   },
   "outputs": [],
   "source": [
    "# Get last season's player data\n",
    "players_last_season =  (pd.read_csv(PLAYERS_FILE, index_col=['id'], na_values='None')\n",
    "                        .pipe(prepare_players, ctx).assign(**{'Season': ctx.last_season}))\n",
    "players_last_season_id_code_map = players_last_season.pipe(get_players_id_code_map)\n",
    "\n",
    "players_history_last_season = (pd.read_csv(PLAYERS_HISTORY_FILE, index_col=['player_id', 'fixture'])\n",
    "            .pipe(prepare_players_history, players_last_season_id_code_map, fixtures_last_season_id_code_map, ctx)\n",
    "            .assign(**{'Season': ctx.last_season}))\n",
    "\n",
    "# This data frame contains one row for every player in the last and the current season.\n",
    "players_ext = pd.concat([players, players_last_season[~players_last_season.index.isin(players.index)]])\n",
    "\n",
    "# This data frame contains one row for every completed fixuture in the last and the current season.\n",
    "players_history_ext = pd.concat([players_history, players_history_last_season])"
   ]
  },
  {
   "cell_type": "markdown",
   "metadata": {},
   "source": [
    "# Create derived data\n",
    "This section creates new dataset by combining the previously loaded ones."
   ]
  },
  {
   "cell_type": "code",
   "execution_count": null,
   "metadata": {
    "ExecuteTime": {
     "end_time": "2020-10-24T22:10:29.502340Z",
     "start_time": "2020-10-24T22:10:29.488341Z"
    }
   },
   "outputs": [],
   "source": [
    "logging.info('Creating derived data sets ...')"
   ]
  },
  {
   "cell_type": "markdown",
   "metadata": {},
   "source": [
    "## Players with team info"
   ]
  },
  {
   "cell_type": "code",
   "execution_count": null,
   "metadata": {
    "ExecuteTime": {
     "end_time": "2020-10-24T22:10:29.549339Z",
     "start_time": "2020-10-24T22:10:29.504342Z"
    }
   },
   "outputs": [],
   "source": [
    "player_teams = players.pipe(get_player_teams, teams, ctx)\n",
    "player_teams_ext = players.pipe(get_player_teams, teams_ext, ctx)"
   ]
  },
  {
   "cell_type": "markdown",
   "metadata": {},
   "source": [
    "## Fixtures with team info"
   ]
  },
  {
   "cell_type": "code",
   "execution_count": null,
   "metadata": {
    "ExecuteTime": {
     "end_time": "2020-10-24T22:10:29.580339Z",
     "start_time": "2020-10-24T22:10:29.551344Z"
    }
   },
   "outputs": [],
   "source": [
    "fixture_teams_ext = fixtures_ext.pipe(get_fixture_teams, teams_ext, ctx)"
   ]
  },
  {
   "cell_type": "markdown",
   "metadata": {},
   "source": [
    "## Player derived fields and metrics\n",
    "The section below derives a few useful player attributes but most importantly, it calculates the total points earned by a player devided by his current cost. This is can be an indicator for whether the player is undervalued or overpriced."
   ]
  },
  {
   "cell_type": "code",
   "execution_count": null,
   "metadata": {
    "ExecuteTime": {
     "end_time": "2020-10-24T22:10:30.298339Z",
     "start_time": "2020-10-24T22:10:29.582341Z"
    }
   },
   "outputs": [],
   "source": [
    "players_history_fixtures_ext = players_history_ext.pipe(get_players_history_fixtures, fixtures_ext, player_teams_ext, ctx)"
   ]
  },
  {
   "cell_type": "markdown",
   "metadata": {},
   "source": [
    "## Team metrics"
   ]
  },
  {
   "cell_type": "code",
   "execution_count": null,
   "metadata": {
    "ExecuteTime": {
     "end_time": "2020-10-24T22:10:30.377339Z",
     "start_time": "2020-10-24T22:10:30.300344Z"
    }
   },
   "outputs": [],
   "source": [
    "team_score_stats_est = load_team_goal_stats_est(TEAM_STATS_EST_FILE, ctx)\n",
    "team_score_stats_ext = fixture_teams_ext.pipe(get_team_score_stats, teams_ext, team_score_stats_est, ctx)"
   ]
  },
  {
   "cell_type": "markdown",
   "metadata": {},
   "source": [
    "## Fixture stats\n",
    "In order to calculate relative strengths of the teams, we aggregate the points that the team has earned so far. We later can use this information to adjust the expected points for each player."
   ]
  },
  {
   "cell_type": "code",
   "execution_count": null,
   "metadata": {
    "ExecuteTime": {
     "end_time": "2020-10-24T22:10:30.409341Z",
     "start_time": "2020-10-24T22:10:30.379341Z"
    }
   },
   "outputs": [],
   "source": [
    "fixture_teams_stats_ext = fixture_teams_ext.pipe(get_fixture_teams_stats, team_score_stats_ext, ctx)"
   ]
  },
  {
   "cell_type": "markdown",
   "metadata": {},
   "source": [
    "## Calculate relative fixture strengths\n",
    "Calculates a relative fixtures strengths for each team. The relative strength is a factor around 1 and is used in the expected point prediction below to adjust the predicted points based on the relative strengths of the upcoming game weeks. The simple idea here is that team with more total points so far are stronger. A value above 1 indicates that the player's team is relatively stronger and a value below 1 indicates that the team is relatively weaker. "
   ]
  },
  {
   "cell_type": "code",
   "execution_count": null,
   "metadata": {
    "ExecuteTime": {
     "end_time": "2020-10-24T22:10:30.678339Z",
     "start_time": "2020-10-24T22:10:30.412345Z"
    }
   },
   "outputs": [],
   "source": [
    "team_fixture_strength_ext = fixture_teams_stats_ext.pipe(get_team_fixture_strength, teams_ext, ctx)"
   ]
  },
  {
   "cell_type": "markdown",
   "metadata": {},
   "source": [
    "## Transfer relative fixture strengths from fixtures to players\n",
    "This section joins the fixture strengths data set with the player data set so that expected points can be calculated on a player basis."
   ]
  },
  {
   "cell_type": "code",
   "execution_count": null,
   "metadata": {
    "ExecuteTime": {
     "end_time": "2020-10-24T22:10:32.216339Z",
     "start_time": "2020-10-24T22:10:30.680344Z"
    }
   },
   "outputs": [],
   "source": [
    "player_team_fixture_strength_ext = players.pipe(get_player_team_fixture_strength, team_fixture_strength_ext, players_history_ext, ctx)"
   ]
  },
  {
   "cell_type": "markdown",
   "metadata": {},
   "source": [
    "## Create combined data for past and future fixtures for each player\n",
    "This section concatenates two sets: one historical and one future fixture set. The reason for this is that for completed matches, we need it to consider the team that player actually played for, while for future games we can assume that the player will play for the same team than he is currently in."
   ]
  },
  {
   "cell_type": "code",
   "execution_count": null,
   "metadata": {
    "ExecuteTime": {
     "end_time": "2020-10-24T22:10:32.867340Z",
     "start_time": "2020-10-24T22:10:32.217342Z"
    }
   },
   "outputs": [],
   "source": [
    "team_future_fixtures = get_team_future_fixtures(team_fixture_strength_ext, players_history_fixtures_ext)\n",
    "players_future_fixture_team_strengths = get_players_future_fixture_team_strengths(player_teams, team_future_fixtures)\n",
    "player_fixture_stats = get_player_fixture_stats(players_history_fixtures_ext, players_future_fixture_team_strengths, player_team_fixture_strength_ext)"
   ]
  },
  {
   "cell_type": "markdown",
   "metadata": {},
   "source": [
    "## Calculates the expected points for the following time horizons\n",
    "Calculates the cumulative expected points for the all the game weeks up to the end of the season. The expected points for each time horizon are simply the sum of expected points for each game week within the time horizon."
   ]
  },
  {
   "cell_type": "markdown",
   "metadata": {},
   "source": [
    "Calculate expected points for each player and fixture combination."
   ]
  },
  {
   "cell_type": "code",
   "execution_count": null,
   "metadata": {
    "ExecuteTime": {
     "end_time": "2020-10-24T22:10:32.898339Z",
     "start_time": "2020-10-24T22:10:32.868341Z"
    }
   },
   "outputs": [],
   "source": [
    "players_fixture_team_eps_ext = get_players_fixture_team_eps(player_fixture_stats)"
   ]
  },
  {
   "cell_type": "markdown",
   "metadata": {},
   "source": [
    "Project the fixtures to game week level to deal with game weeks when there is no fixture for a team or double fixtures."
   ]
  },
  {
   "cell_type": "code",
   "execution_count": null,
   "metadata": {
    "ExecuteTime": {
     "end_time": "2020-10-24T22:10:35.324343Z",
     "start_time": "2020-10-24T22:10:32.900341Z"
    }
   },
   "outputs": [],
   "source": [
    "players_gw_team_eps_ext = get_players_gw_team_eps(players_fixture_team_eps_ext, player_teams)"
   ]
  },
  {
   "cell_type": "markdown",
   "metadata": {
    "ExecuteTime": {
     "end_time": "2020-10-14T21:24:43.671322Z",
     "start_time": "2020-10-14T21:24:43.654322Z"
    }
   },
   "source": [
    "Calculates the expected points for the different time horizons for each player."
   ]
  },
  {
   "cell_type": "code",
   "execution_count": null,
   "metadata": {
    "ExecuteTime": {
     "end_time": "2020-10-24T22:10:58.615853Z",
     "start_time": "2020-10-24T22:10:35.326344Z"
    }
   },
   "outputs": [],
   "source": [
    "player_gw_next_eps_ext = get_player_gw_next_eps(players_gw_team_eps_ext, ctx)"
   ]
  },
  {
   "cell_type": "markdown",
   "metadata": {
    "ExecuteTime": {
     "end_time": "2020-10-14T21:58:59.939903Z",
     "start_time": "2020-10-14T21:58:59.923900Z"
    }
   },
   "source": [
    "# Publish Data Sets in S3"
   ]
  },
  {
   "cell_type": "code",
   "execution_count": null,
   "metadata": {
    "ExecuteTime": {
     "end_time": "2020-10-24T22:10:58.725852Z",
     "start_time": "2020-10-24T22:10:58.617856Z"
    }
   },
   "outputs": [],
   "source": [
    "logging.info('Publishing data sets to S3 ...')\n",
    "\n",
    "bucket = 'fpl.177arc.net' if os.environ.get('ENV') == 'Prod' else 'fpl-test.177arc.net'\n",
    "s3store = S3Store(bucket)"
   ]
  },
  {
   "cell_type": "code",
   "execution_count": null,
   "metadata": {
    "ExecuteTime": {
     "end_time": "2020-10-24T22:10:58.741854Z",
     "start_time": "2020-10-24T22:10:58.727855Z"
    }
   },
   "outputs": [],
   "source": [
    "dfs = {'gws': gws,\n",
    "               'players_ext': players_ext,\n",
    "               'teams': teams,\n",
    "               'player_teams': player_teams,\n",
    "               'fixtures_ext': fixtures_ext,\n",
    "               'players_history_ext': players_history_ext,\n",
    "               'team_fixture_strength_ext': team_fixture_strength_ext,\n",
    "               'players_gw_team_eps_ext': players_gw_team_eps_ext,\n",
    "               'player_gw_next_eps_ext': player_gw_next_eps_ext\n",
    "              }"
   ]
  },
  {
   "cell_type": "code",
   "execution_count": null,
   "metadata": {
    "ExecuteTime": {
     "end_time": "2020-10-24T22:11:17.442147Z",
     "start_time": "2020-10-24T22:11:02.673057Z"
    }
   },
   "outputs": [],
   "source": [
    "def export_dfs(dfs: Dict[str, DF], data_dir: str) -> None:\n",
    "    Path(data_dir).mkdir(parents=True, exist_ok=True)\n",
    "    for df_name, df in dfs.items():\n",
    "        df.to_csv(f'{DATA_DIR}/{df_name}.csv')\n",
    "\n",
    "# Export data frames as CSV files.\n",
    "export_dfs(dfs, DATA_DIR)\n",
    "\n",
    "# Copy the data dictory.\n",
    "_ = copyfile(DATA_DICT_FILE, f'{DATA_DIR}{DATA_DICT_FILE.split(\"/\")[-1]}')\n",
    "\n",
    "# And off we go to S3.\n",
    "s3store.save_dir(DATA_DIR)\n",
    "\n",
    "logging.info('Done!')"
   ]
  }
 ],
 "metadata": {
  "hide_input": false,
  "kernelspec": {
   "display_name": "Python 3",
   "language": "python",
   "name": "python3"
  },
  "language_info": {
   "codemirror_mode": {
    "name": "ipython",
    "version": 3
   },
   "file_extension": ".py",
   "mimetype": "text/x-python",
   "name": "python",
   "nbconvert_exporter": "python",
   "pygments_lexer": "ipython3",
   "version": "3.6.8"
  }
 },
 "nbformat": 4,
 "nbformat_minor": 4
}
