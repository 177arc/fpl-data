{
 "cells": [
  {
   "cell_type": "markdown",
   "metadata": {},
   "source": [
    "# Installation\n",
    "To get started, run the following command to install all required dependencies."
   ]
  },
  {
   "cell_type": "code",
   "execution_count": null,
   "metadata": {
    "ExecuteTime": {
     "end_time": "2021-01-03T15:02:16.525796Z",
     "start_time": "2021-01-03T15:02:16.511792Z"
    }
   },
   "outputs": [],
   "source": [
    "#!pip install -q -r ./requirements.txt"
   ]
  },
  {
   "cell_type": "markdown",
   "metadata": {},
   "source": [
    "# Import requirements\n",
    "Here we import all external and local modulues."
   ]
  },
  {
   "cell_type": "code",
   "execution_count": null,
   "metadata": {
    "ExecuteTime": {
     "end_time": "2021-01-03T15:49:03.470091Z",
     "start_time": "2021-01-03T15:49:01.196093Z"
    }
   },
   "outputs": [],
   "source": [
    "from fpldata.common import Context, is_notebook\n",
    "\n",
    "from fpldata.prepare import prepare_game_weeks, get_next_gw_counts, prepare_teams, get_team_id_code_map, \\\n",
    "    prepare_fixtures, get_fixtures_id_code_map, prepare_players, get_players_id_code_map, \\\n",
    "    prepare_players_history_past, prepare_players_history, get_team_goal_stats_est\n",
    "from fpldata.derive import get_player_teams, get_fixture_teams, get_players_history_fixtures, \\\n",
    "    get_team_goal_stats, get_fixture_goal_stats, get_team_fixture_strength, get_player_team_fixture_strength, \\\n",
    "    get_team_future_fixtures, get_players_future_fixture_team_strengths, get_player_fixture_stats, get_players_fixture_team_eps, \\\n",
    "    get_players_gw_team_eps, get_player_gw_next_eps\n",
    "from fpldata.backtest import get_gw_points_backtest\n",
    "from fpldata.s3store import S3Store\n",
    "from fpldata.manager import FPLManager\n",
    "from fpldata.test import FPLManagerTest\n",
    "from fplpandas import FPLPandas\n",
    "\n",
    "import os\n",
    "import logging, sys\n",
    "import pandas as pd\n",
    "from datadict import DataDict\n",
    "from typing import Dict\n",
    "\n",
    "# Define type aliases\n",
    "DF = pd.DataFrame\n",
    "S = pd.Series"
   ]
  },
  {
   "cell_type": "markdown",
   "metadata": {},
   "source": [
    "# Set variables\n",
    "This section sets all important global variables."
   ]
  },
  {
   "cell_type": "code",
   "execution_count": null,
   "metadata": {
    "ExecuteTime": {
     "end_time": "2021-01-03T15:49:03.485091Z",
     "start_time": "2021-01-03T15:49:03.472092Z"
    }
   },
   "outputs": [],
   "source": [
    "ROOT_DIR = os.path.dirname(__file__) if '__file__' in globals() else '.'\n",
    "DATA_DICT_FILE = f'{ROOT_DIR}/data/data_dictionary.csv'\n",
    "\n",
    "S3_BUCKET_PROD = 'fpl.177arc.net' # S3 bucket for exporting the production data sets.\n",
    "S3_BUCKET_TEST = 'fpl-test.177arc.net' # S3 bucket for exporting the test data sets.\n",
    "\n",
    "LAST_SEASON = '2019-20'\n",
    "CURRENT_SEASON = '2020-21'\n",
    "FIXTURE_LOOK_BACK = 20 # Limit of how many fixtures to look back for calculating rolling team stats\n",
    "PLAYER_FIXTURE_LOOK_BACK = 12 # Limit of how many fixture to look back for calculating rolling player stats\n",
    "\n",
    "# Configure logging\n",
    "logging.basicConfig(level=(logging.WARN if is_notebook() else logging.INFO))\n",
    "\n",
    "pd.set_option('display.max_columns', 100)\n",
    "\n",
    "ENV = os.environ.get('ENV')\n",
    "ENV = 'Comp-Test'\n",
    "# Wrapper for access to variables and functionality that is specifiic to the mode that we are running in.\n",
    "if ENV == 'Prod':\n",
    "    fpl = FPLManager(LAST_SEASON, CURRENT_SEASON, S3_BUCKET_PROD, FIXTURE_LOOK_BACK, PLAYER_FIXTURE_LOOK_BACK)\n",
    "    logging.warning(f'Running in live mode and will publish to {S3_BUCKET_PROD} ...')\n",
    "elif ENV == 'Comp-Test':\n",
    "    fpl = FPLManagerTest(f'{ROOT_DIR}/tests/comp')\n",
    "    logging.info(f'Running in test mode ...')\n",
    "else:\n",
    "    fpl = FPLManager(LAST_SEASON, CURRENT_SEASON, S3_BUCKET_TEST, FIXTURE_LOOK_BACK, PLAYER_FIXTURE_LOOK_BACK)\n",
    "    logging.warning(f'Running in live mode and will publish to {S3_BUCKET_TEST} ...')"
   ]
  },
  {
   "cell_type": "markdown",
   "metadata": {
    "ExecuteTime": {
     "end_time": "2020-10-14T21:01:13.956223Z",
     "start_time": "2020-10-14T21:01:13.946225Z"
    }
   },
   "source": [
    "# Load data dictionary\n",
    "This section loads the data dictionary. The data dictionary contains default ordering of fields, for each field a description, default format and mapping of API field names to more readable ones. It is used to show data in a more user-friendly way."
   ]
  },
  {
   "cell_type": "code",
   "execution_count": null,
   "metadata": {
    "ExecuteTime": {
     "end_time": "2021-01-03T15:49:04.261109Z",
     "start_time": "2021-01-03T15:49:04.235096Z"
    }
   },
   "outputs": [],
   "source": [
    "ctx = fpl.create_context()\n",
    "ctx.dd = DataDict(data_dict_file=DATA_DICT_FILE)"
   ]
  },
  {
   "cell_type": "markdown",
   "metadata": {
    "ExecuteTime": {
     "end_time": "2020-10-14T21:02:10.235546Z",
     "start_time": "2020-10-14T21:02:10.229545Z"
    }
   },
   "source": [
    "# Load game week data\n",
    "The data frame contains one row for each game week for the current season."
   ]
  },
  {
   "cell_type": "code",
   "execution_count": null,
   "metadata": {
    "ExecuteTime": {
     "end_time": "2021-01-03T15:49:04.801109Z",
     "start_time": "2021-01-03T15:49:04.770111Z"
    }
   },
   "outputs": [],
   "source": [
    "logging.info('Loading game week data ...')\n",
    "\n",
    "gws = fpl.get_game_weeks().pipe(prepare_game_weeks, ctx)\n",
    "ctx.total_gws = gws.shape[0]\n",
    "ctx.next_gw = gws[lambda df: df['Is Next GW?']].index.values[0]\n",
    "ctx.def_next_gws = 'Next 8 GWs'\n",
    "ctx.next_gw_counts = get_next_gw_counts(ctx)\n",
    "\n",
    "fpl.assert_context(ctx)"
   ]
  },
  {
   "cell_type": "markdown",
   "metadata": {},
   "source": [
    "# Load team data\n",
    "This section loads the team data and stats from the following endpoint: https://fantasy.premierleague.com/api/bootstrap-static/ and returns it as a panda data frame."
   ]
  },
  {
   "cell_type": "code",
   "execution_count": null,
   "metadata": {
    "ExecuteTime": {
     "end_time": "2021-01-03T15:49:05.526699Z",
     "start_time": "2021-01-03T15:49:05.498699Z"
    }
   },
   "outputs": [],
   "source": [
    "logging.info('Loading team data ...')\n",
    "\n",
    "# Get current team data. The resultnig data frame contains one row for each team playing in the current season.\n",
    "teams = fpl.get_teams().pipe(prepare_teams, ctx)\n",
    "team_id_code_map = teams.pipe(get_team_id_code_map)"
   ]
  },
  {
   "cell_type": "code",
   "execution_count": null,
   "metadata": {
    "ExecuteTime": {
     "end_time": "2021-01-03T15:49:05.699696Z",
     "start_time": "2021-01-03T15:49:05.667702Z"
    }
   },
   "outputs": [],
   "source": [
    "# Get last season's team data\n",
    "teams_last_season = fpl.get_teams_last_season().pipe(prepare_teams, ctx)\n",
    "teams_last_season_id_code_map = teams_last_season.pipe(get_team_id_code_map)\n",
    "\n",
    "# This data frame contains one row for each team playing in the current season and the past season.\n",
    "teams_ext = pd.concat([teams, teams_last_season[~teams_last_season.index.isin(teams.index)]])"
   ]
  },
  {
   "cell_type": "markdown",
   "metadata": {},
   "source": [
    "# Load fixture data\n",
    "This section loads the fixture data and stats from the following endpoint: https://fantasy.premierleague.com/api/fixtures/ and returns it as a panda data frame."
   ]
  },
  {
   "cell_type": "code",
   "execution_count": null,
   "metadata": {
    "ExecuteTime": {
     "end_time": "2021-01-03T15:49:06.504242Z",
     "start_time": "2021-01-03T15:49:06.451246Z"
    }
   },
   "outputs": [],
   "source": [
    "logging.info('Loading fixture data ...')\n",
    "\n",
    "# Get current fixture data. The resulting data frame contains one row for each fixture of the current season, both past and future ones.\n",
    "fixtures = fpl.get_fixtures().pipe(prepare_fixtures, team_id_code_map, ctx).assign(**{'Season': ctx.current_season})\n",
    "fixtures_id_code_map = fixtures.pipe(get_fixtures_id_code_map)"
   ]
  },
  {
   "cell_type": "code",
   "execution_count": null,
   "metadata": {
    "ExecuteTime": {
     "end_time": "2021-01-03T15:49:06.694242Z",
     "start_time": "2021-01-03T15:49:06.642243Z"
    }
   },
   "outputs": [],
   "source": [
    "# Get last season's fixture data\n",
    "fixtures_last_season = (fpl.get_fixtures_last_season()\n",
    "                        .pipe(prepare_fixtures, teams_last_season_id_code_map, ctx)).assign(**{'Season': ctx.last_season})\n",
    "fixtures_last_season_id_code_map = fixtures_last_season.pipe(get_fixtures_id_code_map)\n",
    "\n",
    "# This data frame contains one row for each fixture of the the last and the current season, both past and future ones.\n",
    "fixtures_ext = pd.concat([fixtures, fixtures_last_season])"
   ]
  },
  {
   "cell_type": "markdown",
   "metadata": {},
   "source": [
    "# Load player data\n",
    "This section loads the player data and stats from the following FPL API endpoint: https://fantasy.premierleague.com/api/bootstrap-static/ and returns it as a panda data frame. **This can take a few seconds** because for each player the full history for the current season is downloaded."
   ]
  },
  {
   "cell_type": "code",
   "execution_count": null,
   "metadata": {
    "ExecuteTime": {
     "end_time": "2021-01-03T15:49:07.376085Z",
     "start_time": "2021-01-03T15:49:07.291115Z"
    }
   },
   "outputs": [],
   "source": [
    "logging.info('Loading player data ...')\n",
    "\n",
    "# Get current player data\n",
    "players_raw = fpl.get_players()\n",
    "players = (players_raw[0]\n",
    "           .pipe(prepare_players, ctx)\n",
    "           .assign(**{'Season': ctx.current_season}))\n",
    "players_id_code_map = players.pipe(get_players_id_code_map)\n",
    "\n",
    "\n",
    "# This data frame contains one row for every past season played in the premier league for every player in the current season.\n",
    "#players_history_past = players_raw[1].pipe(prepare_players_history_past, players_id_code_map, ctx)\n",
    "\n",
    "# This data frame contains one row for every completed fixture in the current season for every player.\n",
    "players_history = (players_raw[2]\n",
    "                   .pipe(prepare_players_history, players_id_code_map, fixtures_id_code_map, ctx)\n",
    "                   .assign(**{'Season': ctx.current_season}))"
   ]
  },
  {
   "cell_type": "code",
   "execution_count": null,
   "metadata": {
    "ExecuteTime": {
     "end_time": "2021-01-03T15:49:08.070091Z",
     "start_time": "2021-01-03T15:49:07.979094Z"
    }
   },
   "outputs": [],
   "source": [
    "# Get last season's player data\n",
    "players_last_season_raw = fpl.get_players_last_season()\n",
    "players_last_season =  (players_last_season_raw[0]\n",
    "                        .pipe(prepare_players, ctx).assign(**{'Season': ctx.last_season}))\n",
    "players_last_season_id_code_map = players_last_season.pipe(get_players_id_code_map)\n",
    "\n",
    "players_history_last_season = (players_last_season_raw[2]\n",
    "            .pipe(prepare_players_history, players_last_season_id_code_map, fixtures_last_season_id_code_map, ctx)\n",
    "            .assign(**{'Season': ctx.last_season}))\n",
    "\n",
    "# This data frame contains one row for every player in the last and the current season.\n",
    "players_ext = pd.concat([players, players_last_season[~players_last_season.index.isin(players.index)]])\n",
    "\n",
    "# This data frame contains one row for every completed fixuture in the last and the current season.\n",
    "players_history_ext = pd.concat([players_history, players_history_last_season])"
   ]
  },
  {
   "cell_type": "markdown",
   "metadata": {},
   "source": [
    "# Create derived data\n",
    "This section creates new dataset by combining the previously loaded ones."
   ]
  },
  {
   "cell_type": "code",
   "execution_count": null,
   "metadata": {
    "ExecuteTime": {
     "end_time": "2021-01-03T15:49:09.089195Z",
     "start_time": "2021-01-03T15:49:09.082200Z"
    }
   },
   "outputs": [],
   "source": [
    "logging.info('Creating derived data sets ...')"
   ]
  },
  {
   "cell_type": "markdown",
   "metadata": {},
   "source": [
    "## Players with team info"
   ]
  },
  {
   "cell_type": "code",
   "execution_count": null,
   "metadata": {
    "ExecuteTime": {
     "end_time": "2021-01-03T15:49:10.129493Z",
     "start_time": "2021-01-03T15:49:10.082489Z"
    }
   },
   "outputs": [],
   "source": [
    "player_teams = players.pipe(get_player_teams, teams, ctx)\n",
    "player_teams_ext = players.pipe(get_player_teams, teams_ext, ctx)"
   ]
  },
  {
   "cell_type": "markdown",
   "metadata": {},
   "source": [
    "## Fixtures with team info"
   ]
  },
  {
   "cell_type": "code",
   "execution_count": null,
   "metadata": {
    "ExecuteTime": {
     "end_time": "2021-01-03T15:49:10.808497Z",
     "start_time": "2021-01-03T15:49:10.779497Z"
    }
   },
   "outputs": [],
   "source": [
    "fixture_teams_ext = fixtures_ext.pipe(get_fixture_teams, teams_ext, ctx)"
   ]
  },
  {
   "cell_type": "markdown",
   "metadata": {},
   "source": [
    "## Player derived fields and metrics\n",
    "The section below derives a few useful player attributes but most importantly, it calculates the total points earned by a player devided by his current cost. This is can be an indicator for whether the player is undervalued or overpriced."
   ]
  },
  {
   "cell_type": "code",
   "execution_count": null,
   "metadata": {
    "ExecuteTime": {
     "end_time": "2021-01-03T15:49:11.265496Z",
     "start_time": "2021-01-03T15:49:11.221498Z"
    }
   },
   "outputs": [],
   "source": [
    "players_history_fixtures_ext = players_history_ext.pipe(get_players_history_fixtures, fixtures_ext, player_teams_ext, ctx)"
   ]
  },
  {
   "cell_type": "markdown",
   "metadata": {},
   "source": [
    "## Team metrics"
   ]
  },
  {
   "cell_type": "code",
   "execution_count": null,
   "metadata": {
    "ExecuteTime": {
     "end_time": "2021-01-03T15:49:12.102497Z",
     "start_time": "2021-01-03T15:49:11.987499Z"
    }
   },
   "outputs": [],
   "source": [
    "team_goal_stats_est = get_team_goal_stats_est(fpl.get_last_season_stats_est())\n",
    "team_goal_stats_ext = fixture_teams_ext.pipe(get_team_goal_stats, teams_ext, team_goal_stats_est, ctx)\n",
    "fpl.assert_team_goal_stats_ext(team_goal_stats_ext)"
   ]
  },
  {
   "cell_type": "markdown",
   "metadata": {},
   "source": [
    "## Fixture stats\n",
    "In order to calculate the relative strengths of each player for each fixture, we first need to transfer the team score stats to the fixtures."
   ]
  },
  {
   "cell_type": "code",
   "execution_count": null,
   "metadata": {
    "ExecuteTime": {
     "end_time": "2021-01-03T15:49:12.809944Z",
     "start_time": "2021-01-03T15:49:12.786424Z"
    }
   },
   "outputs": [],
   "source": [
    "fixture_goal_stats_ext = fixture_teams_ext.pipe(get_fixture_goal_stats, team_goal_stats_ext)"
   ]
  },
  {
   "cell_type": "markdown",
   "metadata": {},
   "source": [
    "## Calculate relative fixture strengths\n",
    "The fundamental idea is that the best evidence for a player's ability to generate points is to look over\n",
    "a sliding window of past fixtures while taking into account the difficulty of the opposing team.\n",
    "\n",
    "The expected points for each game week for each player are calculated by taking the average points earned by  \n",
    "each player for every event type (e.g. goals scored, goals conceded, clean sheets, yellow cards, etc.) separately\n",
    "over a sliding window of past fixtures (currently 12). These averages are adjusted based on the relative strength\n",
    "of the opposing team compared to the relative strength of the opposing teams that the player has played so far.\n",
    "\n",
    "So first we need to calculate the relative fixtures strengths for each team based on the goals scored/conceded at home and away. The relative strength is a factor around 1 and is used in the expected point prediction below to adjust the predicted points based on the relative strengths of the upcoming fixtures. A value above 1 indicates that the player's team is relatively stronger and a value below 1 indicates that the team is relatively weaker.\n",
    "\n",
    "Four different strength factors are calculated:\n",
    "- `Rel Att Fixture Strength Home` and `Rel Att Fixture Strength Away`: Relative attacking strength of the team for the fixture for scaling the expected points of mid fielders and forwards both at home and away\n",
    "- `Rel Def Fixture Strength Home` and `Rel Def Fixture Strength Away`: Relative defensive strength of the team for the fixture for scaling the expected point of the defenders and goal keepers both at home and away\n",
    "\n",
    "### Relative attacking strengths\n",
    "The relative attacking strength of the opposing team for a specific fixture is the average number of goals conceded by teams the team played against over the same sliding window by divided the number of goals conceded over a sliding window of past fixtures (currently 38) by the opposing team. This calculated separately for both home and away games.\n",
    "\n",
    "$$s_{A,H/A} = \\frac{\\frac{\\sum_{i=1}^{F_{T}} \\frac{\\sum_{i=1}^{F_{O}} g_{O,C,A/H,i}}{F}}{F}}{\\frac{\\sum_{i=1}^{F_{O}} g_{O,C,A/H,i}}{F}}$$\n",
    "\n",
    "where\n",
    "\n",
    "* $g_{O,C,A/H}$: Goals conceded by the opposing team at away/at home.\n",
    "* $F$: Number of fixtures in the sliding window.\n",
    "* $F_{T}$: Fixtures played by this team in the sliding window.\n",
    "* $F_{O}$: Fixtures played by opposing team in the sliding window.\n",
    "\n",
    "### Relative defensive strengths\n",
    "The relative defensive strength of the opposing team for a specific fixture is simply the number of goals scored over a sliding window of past fixtures (currently 38) by the opposing team divided by the average number of goals scored by teams the team played against over the same sliding window. This calculated separately for both home and away games.\n",
    "\n",
    "$$s_{D,H/A} = \\frac{\\frac{\\sum_{i=1}^{F_{O}} g_{O,S,A/H,i}}{F}}{\\frac{\\sum_{i=1}^{F_{T}} \\frac{\\sum_{i=1}^{F_{O}} g_{O,S,A/H,i}}{F}}{F}}$$\n",
    "\n",
    "where\n",
    "\n",
    "* $g_{O,S,A/H}$: Goals scored by the opposing team at away/at home.\n",
    "* $F$: Number of fixtures in the sliding window.\n",
    "* $F_{T}$: Fixtures played by this team in the sliding window.\n",
    "* $F_{O}$: Fixtures played by opposing team in the sliding window.\n",
    "\n",
    "\n",
    "### Limitations\n",
    "This approach assumes that the points awarded to a player are linear with the number of goals scored or conceded. This is clearly not the case since the formula for calculating is much more complicated. Nevertheless this is a reasonable approximation and we can improve on this at a later point."
   ]
  },
  {
   "cell_type": "code",
   "execution_count": null,
   "metadata": {
    "ExecuteTime": {
     "end_time": "2021-01-03T15:49:13.840952Z",
     "start_time": "2021-01-03T15:49:13.602946Z"
    }
   },
   "outputs": [],
   "source": [
    "team_fixture_stats_ext = fixture_goal_stats_ext.pipe(get_team_fixture_strength, teams_ext, ctx)"
   ]
  },
  {
   "cell_type": "markdown",
   "metadata": {},
   "source": [
    "## Transfer relative fixture strengths from fixtures to players\n",
    "This section joins the fixture strengths data set with the player data set so that expected points can be calculated on a player basis."
   ]
  },
  {
   "cell_type": "code",
   "execution_count": null,
   "metadata": {
    "ExecuteTime": {
     "end_time": "2021-01-03T15:49:14.109527Z",
     "start_time": "2021-01-03T15:49:13.994955Z"
    },
    "scrolled": false
   },
   "outputs": [],
   "source": [
    "player_team_fixture_strength_ext = players.pipe(get_player_team_fixture_strength, team_fixture_stats_ext, players_history_ext, ctx)"
   ]
  },
  {
   "cell_type": "markdown",
   "metadata": {},
   "source": [
    "## Create combined data for past and future fixtures for each player\n",
    "This section concatenates two sets: one historical and one future fixture set. The reason for this is that for completed matches, we need it to consider the team that player actually played for, while for future games we can assume that the player will play for the same team than he is currently in."
   ]
  },
  {
   "cell_type": "code",
   "execution_count": null,
   "metadata": {
    "ExecuteTime": {
     "end_time": "2021-01-03T15:49:14.950441Z",
     "start_time": "2021-01-03T15:49:14.898440Z"
    }
   },
   "outputs": [],
   "source": [
    "team_future_fixtures = team_fixture_stats_ext.pipe(get_team_future_fixtures, players_history_fixtures_ext)\n",
    "players_future_fixture_team_strengths = player_teams.pipe(get_players_future_fixture_team_strengths, team_future_fixtures)\n",
    "player_fixture_stats = players_history_fixtures_ext.pipe(get_player_fixture_stats, players_future_fixture_team_strengths, player_team_fixture_strength_ext)"
   ]
  },
  {
   "cell_type": "markdown",
   "metadata": {},
   "source": [
    "## Calculates the expected points for different  time horizons\n",
    "In this section, we first calculate the expected points for each game week and each player in two ways:\n",
    "* *Simple*: The expected points for a future fixture is the average of points over a sliding window of past fixtures.\n",
    "* *Based on relative strength*: Similar to the simple calculation but instead of using the total points, we calculate the average points for each event type (e.g. goals scored, goals conceded, clean sheets, yellow cards, etc.) over the same sliding window of past fixtures and scale them depending on the relative attacking/defensive strength of the future fixture as calculated in the previous section.\n",
    "\n",
    "Note we calculate the expected points also for past fixtures for the purpose back testing.\n",
    "\n",
    "We then calculate the cumulative expected points for the all the game weeks up to the end of the season. The expected points for each time horizon are simply the sum of expected points for each game week within the time horizon."
   ]
  },
  {
   "cell_type": "markdown",
   "metadata": {},
   "source": [
    "Calculate expected points for each player and fixture combination."
   ]
  },
  {
   "cell_type": "code",
   "execution_count": null,
   "metadata": {
    "ExecuteTime": {
     "end_time": "2021-01-03T15:49:16.171367Z",
     "start_time": "2021-01-03T15:49:16.146366Z"
    }
   },
   "outputs": [],
   "source": [
    "players_fixture_team_eps_ext = player_fixture_stats.pipe(get_players_fixture_team_eps)"
   ]
  },
  {
   "cell_type": "markdown",
   "metadata": {},
   "source": [
    "Project the fixtures to game week level to deal with game weeks when there is no fixture for a team or double fixtures."
   ]
  },
  {
   "cell_type": "code",
   "execution_count": null,
   "metadata": {
    "ExecuteTime": {
     "end_time": "2021-01-03T15:49:16.899436Z",
     "start_time": "2021-01-03T15:49:16.730424Z"
    }
   },
   "outputs": [],
   "source": [
    "players_gw_team_eps_ext = players_fixture_team_eps_ext.pipe(get_players_gw_team_eps, player_teams)"
   ]
  },
  {
   "cell_type": "markdown",
   "metadata": {
    "ExecuteTime": {
     "end_time": "2020-10-14T21:24:43.671322Z",
     "start_time": "2020-10-14T21:24:43.654322Z"
    }
   },
   "source": [
    "Calculates the expected points for the different time horizons for each player."
   ]
  },
  {
   "cell_type": "code",
   "execution_count": null,
   "metadata": {
    "ExecuteTime": {
     "end_time": "2021-01-03T15:49:18.514585Z",
     "start_time": "2021-01-03T15:49:17.461461Z"
    }
   },
   "outputs": [],
   "source": [
    "player_gw_next_eps_ext = players_gw_team_eps_ext.pipe(get_player_gw_next_eps, ctx)"
   ]
  },
  {
   "cell_type": "markdown",
   "metadata": {},
   "source": [
    "## Back test the expected points"
   ]
  },
  {
   "cell_type": "code",
   "execution_count": null,
   "metadata": {
    "ExecuteTime": {
     "end_time": "2021-01-03T15:49:18.562585Z",
     "start_time": "2021-01-03T15:49:18.516586Z"
    }
   },
   "outputs": [],
   "source": [
    "gw_points_backtest = get_gw_points_backtest(players_gw_team_eps_ext, ctx)\n",
    "backtest_results = dict(gw_points_backtest[['Error', 'Sq Error', 'Error Simple', 'Sq Error Simple']].mean())\n",
    "print(f'Back test results for expected points:'\n",
    "      +f'\\nMean error based on relative strength: {backtest_results[\"Error\"]:.2f} points'\n",
    "      +f'\\nMean error based on simple approach: {backtest_results[\"Error Simple\"]:.2f} points'\n",
    "      +f'\\nMean square error based on relative strength: {backtest_results[\"Sq Error\"]:.2f} points'\n",
    "      +f'\\nMean Square error based on simple approach: {backtest_results[\"Sq Error Simple\"]:.2f} points')\n",
    "assert backtest_results['Error'] < backtest_results['Error Simple'], 'Error of the Expected Points based on the complex formula are worse than the error of the Expected Points based on the simple calculation.'"
   ]
  },
  {
   "cell_type": "code",
   "execution_count": null,
   "metadata": {
    "ExecuteTime": {
     "end_time": "2021-01-03T15:49:22.128806Z",
     "start_time": "2021-01-03T15:49:19.241901Z"
    }
   },
   "outputs": [],
   "source": [
    "if is_notebook():\n",
    "    import plotly.express as px\n",
    "    px.line(gw_points_backtest, x='Season Game Week', y=['Avg Expected Points', 'Avg Expected Points Simple', 'Avg Fixture Total Points', 'Error']).show()"
   ]
  },
  {
   "cell_type": "code",
   "execution_count": null,
   "metadata": {
    "ExecuteTime": {
     "end_time": "2021-01-03T15:49:22.285806Z",
     "start_time": "2021-01-03T15:49:22.130807Z"
    }
   },
   "outputs": [],
   "source": [
    "fpl.assert_player_gw_next_eps_ext(player_gw_next_eps_ext)"
   ]
  },
  {
   "cell_type": "markdown",
   "metadata": {
    "ExecuteTime": {
     "end_time": "2020-10-14T21:58:59.939903Z",
     "start_time": "2020-10-14T21:58:59.923900Z"
    }
   },
   "source": [
    "# Publish data sets"
   ]
  },
  {
   "cell_type": "code",
   "execution_count": null,
   "metadata": {
    "ExecuteTime": {
     "end_time": "2021-01-03T15:02:24.377758Z",
     "start_time": "2021-01-03T15:02:24.363761Z"
    }
   },
   "outputs": [],
   "source": [
    "fpl.publish_data_sets(globals())"
   ]
  }
 ],
 "metadata": {
  "hide_input": false,
  "kernelspec": {
   "display_name": "Python 3",
   "language": "python",
   "name": "python3"
  },
  "language_info": {
   "codemirror_mode": {
    "name": "ipython",
    "version": 3
   },
   "file_extension": ".py",
   "mimetype": "text/x-python",
   "name": "python",
   "nbconvert_exporter": "python",
   "pygments_lexer": "ipython3",
   "version": "3.6.8"
  }
 },
 "nbformat": 4,
 "nbformat_minor": 4
}
